{
  "cells": [
    {
      "cell_type": "markdown",
      "metadata": {
        "id": "view-in-github",
        "colab_type": "text"
      },
      "source": [
        "<a href=\"https://colab.research.google.com/github/juliano777/dnc/blob/main/Case01_Exercicio.ipynb\" target=\"_parent\"><img src=\"https://colab.research.google.com/assets/colab-badge.svg\" alt=\"Open In Colab\"/></a>"
      ]
    },
    {
      "cell_type": "markdown",
      "metadata": {
        "id": "iyeJnD-scFSv"
      },
      "source": [
        "Atualmente, Python é uma das linguagens de progrmação mais utilizadas no Mundo. Isso devido a sua alta curva de aprendizagem, tipografia dinamica, agilidade e grande apoio da comunidade. Mas como toda e qualquer linguagem, aprender, entender e aplicar seus conceitos básicos é algo essencial na carreira de quem está iniciando na área. Vamos explorar alguns dos conceitos de maneira prática, explorando desde tipo de variáveis, print, tuplas, operações aritméticas e lógicas e ao final, construir uma utilização simples com tudo isso: A impressão de uma notinha fiscal. Você deve então, para revisar esses conceitos, responder as 10 questões abaixo:\n",
        "* 1 - Peça ao usuário para inserir o valor da compra e em seguida em quantas vezes ele quer parcelar a compra. Ao final, imprima essas informações e o valor de cada parcela.\n",
        "\n",
        "\n",
        "\n",
        "* 2 - Qual diferença entre realizarmos a operação 2 * 4 e '2' * 4?\n",
        "* 3 - Crie um algoritmo simples que calcule se o número inserido é multiplo de 2 e 3 ao mesmo tempo. (O número deve ser sempre inteiro)\n",
        "* 4 - Utilizando as informações abaixo, calcule a função f(x,y,z) para estas 3 variáveis.\n",
        "\n",
        "  $x = 2$\n",
        "\n",
        "  $y = 0.5$\n",
        "\n",
        "  $z = 12$\n",
        "\n",
        "  $f(x,y,z) = \\frac{x^2-z}{yz}+xyz$\n",
        "\n",
        "* 5 - Escreva os nomes Thiago, Ana e Luiz, separado entre | com espaçamento de 15 caracteres. Mantenha os nomes centralizados.\n",
        "* 6 - Peça para o usuário inserir 3 produtos e em seguida inserir 3 valores (de cada produto). Armazene cada conjunto de dados (produto, valor) em uma tupla.\n",
        "* 7 - Faça um código para somar o valor dos produtos (usando a estrutura de tupla) e sem seguida peça o número de parcelas que o usuário quer dividir a compra. Usando uma taxa de juros de 1.5% (Todas as parcelas com execeção da primeira tem um aumento de 1.5% em seu valor). Calcule o valor inicial (Sem o parcelamento) e o final (Com parcelamento)\n",
        "* 8 - Construa utilizando a função print a imagem abaixo (Um \"retângulo\" com os números de 1 a 9 dentro. Perceba que os números estão igualmente espaçados e centralizados em um espaço determinado de 5 caracteres. Já a largura do retângulo tem um máximo de 17 caracteres.\n",
        "![image.png](data:image/png;base64,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)\n",
        "\n",
        "\n",
        "\n"
      ]
    },
    {
      "cell_type": "markdown",
      "metadata": {
        "id": "dnNgE5GFV5GF"
      },
      "source": [
        "## 1 - Peça ao usuário para inserir o valor da compra e em seguida em quantas vezes ele quer parcelar a compra. Ao final, imprima essas informações e o valor de cada parcela."
      ]
    },
    {
      "cell_type": "code",
      "execution_count": null,
      "metadata": {
        "id": "NCqc1Df-TtB6",
        "outputId": "4f925113-b7ff-45db-b273-6eb94afdd7dc"
      },
      "outputs": [
        {
          "name": "stdin",
          "output_type": "stream",
          "text": [
            "Digite o valor da compra: R$  600\n",
            "Digite em quantas parcelas quer pagar (até 3x):  2\n"
          ]
        },
        {
          "name": "stdout",
          "output_type": "stream",
          "text": [
            "Você comprou R$ 600.00 em 2 sem juros de 300.00\n"
          ]
        }
      ],
      "source": [
        "# Atribuição de valor à variável digitando do teclado\n",
        "valor =  abs(float(input('Digite o valor da compra: R$ ')))\n",
        "\n",
        "# Loop para definir o número de parcelas corretamente\n",
        "# A loja só parcela em até 3x sem juros\n",
        "while True:\n",
        "    n_parcelas = abs(int(input('Digite em quantas parcelas quer pagar (até 3x): ')))\n",
        "    if n_parcelas >= 1 and n_parcelas <= 3:\n",
        "        break\n",
        "    else:\n",
        "        print('Você pode escolher até 3 parcelas')\n",
        "\n",
        "# Valor de cada parcela\n",
        "parcela = round(valor / n_parcelas, 2)\n",
        "\n",
        "# Mensagem final\n",
        "msg = (f'Você comprou R$ {valor:.2f} '\n",
        "       f'em {n_parcelas} sem juros de {parcela:.2f}')\n",
        "\n",
        "# Exibir mensagem\n",
        "print(msg)"
      ]
    },
    {
      "cell_type": "markdown",
      "metadata": {
        "id": "QdSMcWhVlg1f"
      },
      "source": [
        "## 2 - Qual diferença entre realizarmos a operação 2 * 4 e '2' * 4?"
      ]
    },
    {
      "cell_type": "code",
      "execution_count": null,
      "metadata": {
        "id": "JvMpasSXTtB8"
      },
      "outputs": [],
      "source": [
        "# 2 * 4: operação permitida, pois ambos os valores são inteiros.\n",
        "# '2' * 4: operação não permitida, pois o primeiro valor é uma string, então\n",
        "# seria necessário convertê-la para inteiro antes -> int('2') * 4"
      ]
    },
    {
      "cell_type": "markdown",
      "metadata": {
        "id": "eMjrGwpZpXP6"
      },
      "source": [
        "## 3 - Crie um algoritmo simples que calcule se o número inserido é multiplo de 2 e 3 ao mesmo tempo. (O número deve ser sempre inteiro)"
      ]
    },
    {
      "cell_type": "code",
      "execution_count": null,
      "metadata": {
        "id": "0zeHgB9WTtB9",
        "outputId": "1fbc8ef2-d12f-4db5-a448-03d3d018edb6"
      },
      "outputs": [
        {
          "name": "stdin",
          "output_type": "stream",
          "text": [
            "Digite um valor:  18\n"
          ]
        },
        {
          "name": "stdout",
          "output_type": "stream",
          "text": [
            "18 é MMC de 2 e 3\n"
          ]
        }
      ],
      "source": [
        "# Candidato a MMC de 2 e 3\n",
        "n = abs(int(input('Digite um valor: ')))\n",
        "\n",
        "# Verificação de MMC\n",
        "if (n % 2 == 0) and (n % 3 == 0):\n",
        "    print(f'{n} é MMC de 2 e 3')\n"
      ]
    },
    {
      "cell_type": "markdown",
      "metadata": {
        "id": "hV_a9S74iTED"
      },
      "source": [
        "## 4 - Utilizando as informações abaixo, calcule a função f(x,y,z) para estas 3 variáveis.\n",
        "\n",
        "$x = 2$\n",
        "\n",
        "$y = 0.5$\n",
        "\n",
        "$z = 12$\n",
        "\n",
        "$f(x,y,z) = \\frac{x^2-z}{yz}+xyz$"
      ]
    },
    {
      "cell_type": "code",
      "execution_count": null,
      "metadata": {
        "id": "hB0fZKv7TtB_",
        "outputId": "69d86743-f122-4784-f92e-429de0060775"
      },
      "outputs": [
        {
          "data": {
            "text/plain": [
              "-272.0"
            ]
          },
          "execution_count": 20,
          "metadata": {},
          "output_type": "execute_result"
        }
      ],
      "source": [
        "def f(x: float, y: float, z: float):\n",
        "    return (x ** 2 - z / y * z) + (x * y * z)\n",
        "    \n",
        "f(2, .5, 12)"
      ]
    },
    {
      "cell_type": "markdown",
      "metadata": {
        "id": "pQWVpaHKWbTs"
      },
      "source": [
        "## 5 - Escreva os nomes Thiago, Ana e Luiz, separado entre | com espaçamento de 15 caracteres. Mantenha os nomes centralizados."
      ]
    },
    {
      "cell_type": "code",
      "execution_count": null,
      "metadata": {
        "id": "blPCa1OOTtCA",
        "outputId": "5c989dae-ffd8-4465-a56f-4134926fb764"
      },
      "outputs": [
        {
          "data": {
            "text/plain": [
              "'|    Thiago     |      Ana      |     Luiz      |'"
            ]
          },
          "execution_count": 43,
          "metadata": {},
          "output_type": "execute_result"
        }
      ],
      "source": [
        "f\"|{'Thiago':^15}|{'Ana':^15}|{'Luiz':^15}|\""
      ]
    },
    {
      "cell_type": "markdown",
      "metadata": {
        "id": "g7_XQWAliWFa"
      },
      "source": [
        "## 6 - Peça para o usuário inserir 3 produtos e em seguida inserir 3 valores (de cada produto). Armazene cada conjunto de dados (produto, valor) em uma tupla."
      ]
    },
    {
      "cell_type": "code",
      "execution_count": null,
      "metadata": {
        "id": "u_bCBBGJTtCA",
        "outputId": "0a853024-009b-4ded-e80f-594720b434ed"
      },
      "outputs": [
        {
          "name": "stdout",
          "output_type": "stream",
          "text": [
            "********** Insira o nome de 3 produtos **********\n"
          ]
        },
        {
          "name": "stdin",
          "output_type": "stream",
          "text": [
            "1:  A\n",
            "2:  B\n",
            "3:  C\n"
          ]
        },
        {
          "name": "stdout",
          "output_type": "stream",
          "text": [
            "********** Insira o preço dos produtos **********\n"
          ]
        },
        {
          "name": "stdin",
          "output_type": "stream",
          "text": [
            "1:  700\n",
            "2:  150\n",
            "3:  50\n"
          ]
        }
      ],
      "source": [
        "# Variáveis\n",
        "produtos = []\n",
        "valores = []\n",
        "\n",
        "# Produtos\n",
        "print(f\"{'*'*10} Insira o nome de 3 produtos {'*'*10}\")\n",
        "\n",
        "for i in range(3):\n",
        "      produtos.append(input(f'{i+1}: '))\n",
        "        \n",
        "# Preços\n",
        "print(f\"{'*'*10} Insira o preço dos produtos {'*'*10}\")\n",
        "\n",
        "for i in range(3):\n",
        "      valores.append(abs(float(input(f'{i+1}: '))))\n",
        "        \n",
        "# Converter para tuplas\n",
        "produtos = tuple(produtos)\n",
        "valores = tuple(valores)"
      ]
    },
    {
      "cell_type": "markdown",
      "metadata": {
        "id": "WqBj2XqNrZNF"
      },
      "source": [
        "# 7 - Faça um código para somar o valor dos produtos (usando a estrutura de tupla) e sem seguida peça o número de parcelas que o usuário quer dividir a compra.\n",
        "# Usando uma taxa de juros de 1.5% (Todas as parcelas com execeção da primeira tem um aumento de 1.5% em seu valor).\n",
        "# Calcule o valor inicial (Sem o parcelamento) e o final (Com parcelamento):"
      ]
    },
    {
      "cell_type": "code",
      "execution_count": null,
      "metadata": {
        "id": "vD2B332vTtCB",
        "outputId": "48756239-927c-4438-b10f-617c57a8698f"
      },
      "outputs": [
        {
          "name": "stdin",
          "output_type": "stream",
          "text": [
            "Digite em quantas parcelas quer pagar (até 3x):  3\n"
          ]
        },
        {
          "name": "stdout",
          "output_type": "stream",
          "text": [
            "Primeira parcela: R$ 300.00\n",
            "Mais 2 parcelas de R$ 304.50\n",
            "Total: 909.00\n"
          ]
        }
      ],
      "source": [
        "# Soma dos valores digitados\n",
        "soma_valores = sum(valores)\n",
        "\n",
        "# Loop para definir o número de parcelas corretamente\n",
        "# A loja só parcela em até 3x sem juros\n",
        "while True:\n",
        "    msg = 'Digite em quantas parcelas quer pagar (até 3x): '\n",
        "    n_parcelas = abs(int(input(msg)))\n",
        "    if n_parcelas >= 1 and n_parcelas <= 3:\n",
        "        break\n",
        "    else:\n",
        "        print('Você pode escolher até 3 parcelas')\n",
        "        \n",
        "# Valores\n",
        "valor_inicial = round(soma_valores / n_parcelas)\n",
        "parcela_juros = valor_inicial * 1.015\n",
        "valor_final = valor_inicial + ((n_parcelas - 1) * parcela_juros)\n",
        "\n",
        "# String da mensagem\n",
        "msg = (f'Primeira parcela: R$ {valor_inicial:.2f}\\n'\n",
        "       f'Mais {n_parcelas - 1} parcelas de R$ {parcela_juros:.2f}\\n'\n",
        "       f'Total: {valor_final:.2f}')\n",
        "\n",
        "# Exibe mensagem final\n",
        "print(msg)\n",
        "\n"
      ]
    },
    {
      "cell_type": "markdown",
      "metadata": {
        "id": "vWYVrkKlrc6L"
      },
      "source": [
        "# 8 - Construa utilizando a função print a imagem abaixo (Um \"retângulo\" com os números de 1 a 9 dentro. Perceba que os números estão igualmente espaçados e centralizados em um espaço determinado de 5 caracteres. Já a largura do retângulo tem um máximo de 17 caracteres.\n",
        "![image.png](data:image/png;base64,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)"
      ]
    },
    {
      "cell_type": "code",
      "execution_count": null,
      "metadata": {
        "id": "_VBohAvlTtCB",
        "outputId": "47f0e665-7940-4e58-9cf4-8b4cd490cf77"
      },
      "outputs": [
        {
          "name": "stdout",
          "output_type": "stream",
          "text": [
            "-----------------\n",
            "|  1    2    3  |\n",
            "|  4    5    6  |\n",
            "|  7    8    9  |\n",
            "-----------------\n",
            "\n"
          ]
        }
      ],
      "source": [
        "s = f\"{'-' * 17}\\n\"\n",
        "s = f\"{s}|{1:^5}{2:^5}{3:^5}|\\n\"\n",
        "s = f\"{s}|{4:^5}{5:^5}{6:^5}|\\n\"\n",
        "s = f\"{s}|{7:^5}{8:^5}{9:^5}|\\n\"\n",
        "s = f\"{s}{'-' * 17}\\n\"\n",
        "\n",
        "print(s)\n",
        "\n"
      ]
    },
    {
      "cell_type": "markdown",
      "metadata": {
        "id": "8ndIZXVYrej1"
      },
      "source": [
        "# 9 - Repita o processo anterior (Questão 8) porém o usuário deve colocar a largura do retangulo e o código deve automaticamente calcular o espaçamento entre os números."
      ]
    },
    {
      "cell_type": "code",
      "execution_count": null,
      "metadata": {
        "id": "qR9rURoWTtCC",
        "outputId": "e683dedd-8c17-419d-a9f0-4e0d2a6958b9"
      },
      "outputs": [
        {
          "name": "stdin",
          "output_type": "stream",
          "text": [
            "Digite a largura do retângulo:  17\n"
          ]
        },
        {
          "name": "stdout",
          "output_type": "stream",
          "text": [
            "-----------------\n",
            "|  1    2    3  |\n",
            "|  4    5    6  |\n",
            "|  7    8    9  |\n",
            "-----------------\n",
            "\n"
          ]
        }
      ],
      "source": [
        "largura = abs(int(input('Digite a largura do retângulo: ')))\n",
        "espacamento = (largura - 2) // 3\n",
        "\n",
        "s = f\"{'-' * largura}\\n\"\n",
        "s = f\"{s}|{1:^{espacamento}}{2:^{espacamento}}{3:^{espacamento}}|\\n\"\n",
        "s = f\"{s}|{4:^{espacamento}}{5:^{espacamento}}{6:^{espacamento}}|\\n\"\n",
        "s = f\"{s}|{7:^{espacamento}}{8:^{espacamento}}{9:^{espacamento}}|\\n\"\n",
        "s = f\"{s}{'-' * largura}\\n\"\n",
        "\n",
        "print(s)"
      ]
    },
    {
      "cell_type": "markdown",
      "metadata": {
        "id": "sItEf7P0rfRJ"
      },
      "source": [
        "# 10 - Agora que trabalhamos operações matemáticas, lógicas e print, vamos simular uma compra e a impressão da nota fiscal.\n",
        "  * a - Usuário deve inserir 3 produtos e seus valores em um formato de tupla\n",
        "  * b - Usuário deve informar quanto dinheiro tem disponível na sua carteira\n",
        "  * c - Pergunte se quer pagar no débito ou no crédito (Parcelado).\n",
        "  * d - Se a opção for crédito, pergunte o número de parcelas e calcule o valor final (Com juros de 2.5% em cima das parcelas - igual ao exercício 7).\n",
        "  * e - Imprima os produtos alinhados a esquerda e valores alinhados a direita semelhante a uma nota fiscal de supermercado.\n",
        "  * f - Dependendo da opção desejada, imprima: Débito - Valor antes da compra, total da compra e o quanto sobrou de dinheiro, tudo isso alinhado a direita. Crédito - Valor inicial, número de parcelas, valor final, valor de cada parcela (conta a partir da segunda) e desconte o valor da primeira parcela (que é menor) da carteira.\n"
      ]
    },
    {
      "cell_type": "code",
      "execution_count": null,
      "metadata": {
        "colab": {
          "base_uri": "https://localhost:8080/"
        },
        "id": "C0xIli9sTtCC",
        "outputId": "7d47a828-eb10-4e4e-dd9c-71f6ac9b1ad6"
      },
      "outputs": [
        {
          "output_type": "stream",
          "name": "stdout",
          "text": [
            "********** Insira o nome de 3 produtos **********\n",
            "1: A\n",
            "2: B\n",
            "3: C7\n",
            "********** Insira o preço dos produtos **********\n",
            "1: 2\n",
            "2: 5\n",
            "3: 10\n",
            "Informe o valor contido em carteira: R$ 50\n",
            "Qual a forma de pagamento?\n",
            "\n",
            "1) Débito\n",
            "2) Crédito\n",
            "\n",
            "2\n",
            "Digite em quantas parcelas quer pagar (até 3x): 2\n",
            "\n",
            "--------------------------------------------------\n",
            "                   Nota fiscal                    \n",
            "--------------------------------------------------\n",
            "A ....................... 2.00\n",
            "B ....................... 5.00\n",
            "C7 ...................... 10.00\n",
            "--------------------------------------------------\n",
            "........................... Total inicial: R$ 8.00\n",
            "............................ Total final: R$ 16.20\n",
            "............................... Carteira: R$ 50.00\n",
            "............................... Restante: R$ 42.00\n",
            "........................... 1 parcelas de: R$ 8.20\n"
          ]
        }
      ],
      "source": [
        "# a - Usuário deve inserir 3 produtos e seus valores em um formato de tupla --\n",
        "\n",
        "# Variáveis\n",
        "produtos = []\n",
        "valores = []\n",
        "\n",
        "# Função auxiliar\n",
        "\n",
        "# Loop para definir o número de parcelas corretamente\n",
        "# A loja só parcela em até 3x sem juros\n",
        "def parcelamento() -> int:\n",
        "    n = 0 \n",
        "    \n",
        "    while n < 1 or n > 3:\n",
        "        msg = 'Digite em quantas parcelas quer pagar (até 3x): '\n",
        "        n = abs(int(input(msg)))\n",
        "        \n",
        "    return n\n",
        "\n",
        "# Produtos\n",
        "print(f\"{'*'*10} Insira o nome de 3 produtos {'*'*10}\")\n",
        "\n",
        "for i in range(3):\n",
        "      produtos.append(input(f'{i+1}: '))\n",
        "        \n",
        "# Preços\n",
        "print(f\"{'*'*10} Insira o preço dos produtos {'*'*10}\")\n",
        "\n",
        "for i in range(3):\n",
        "      valores.append(abs(float(input(f'{i+1}: '))))\n",
        "        \n",
        "# Converter para tuplas\n",
        "produtos = tuple(produtos)\n",
        "valores = tuple(valores)\n",
        "\n",
        "# Soma dos valores digitados\n",
        "soma_valores = sum(valores)\n",
        "\n",
        "# b - Usuário deve informar quanto dinheiro tem disponível na sua carteira ---\n",
        "carteira = abs(float(input('Informe o valor contido em carteira: R$ ')))\n",
        "\n",
        "# c - Pergunte se quer pagar no débito ou no crédito (Parcelado).\n",
        "msg = 'Qual a forma de pagamento?\\n\\n'\n",
        "msg = f'{msg}1) Débito\\n2) Crédito\\n\\n'\n",
        "\n",
        "\n",
        "while True:\n",
        "    forma_pagamento = abs(int(input(msg)))\n",
        "    \n",
        "    # d - Se a opção for crédito, pergunte o número de parcelas e calcule o\n",
        "    # valor final (Com juros de 2.5% em cima das parcelas - igual ao\n",
        "    # exercício 7).\n",
        "    if forma_pagamento == 2:\n",
        "        n_parcelas = parcelamento()\n",
        "        # Valores\n",
        "        valor_inicial = round(soma_valores / n_parcelas)\n",
        "        parcela_juros = valor_inicial * 1.025\n",
        "        valor_final = valor_inicial + ((n_parcelas - 1) * parcela_juros)\n",
        "        break\n",
        "    elif forma_pagamento == 1:\n",
        "        break\n",
        "        \n",
        "# e - Imprima os produtos alinhados a esquerda e valores alinhados a direita\n",
        "# semelhante a uma nota fiscal de supermercado.\n",
        "\n",
        "linha = f\"{'-' * 50}\"\n",
        "print(f'\\n{linha}')\n",
        "print(f\"{'Nota fiscal':^50}\")\n",
        "print(f'{linha}')\n",
        "\n",
        "for produto, valor in zip(produtos, valores):\n",
        "  print(f\"{produto + ' ':.<25} {valor:.2f}\")\n",
        "\n",
        "\n",
        "# f - Dependendo da opção desejada, imprima: Débito - Valor antes da compra,\n",
        "# total da compra e o quanto sobrou de dinheiro, tudo isso alinhado a direita.\n",
        "# Crédito - Valor inicial, número de parcelas, valor final, valor de cada \n",
        "# parcela (conta a partir da segunda) e desconte o valor da primeira parcela\n",
        "# (que é menor) da carteira.\n",
        "\n",
        "print(linha)\n",
        "print(f\"{f' Total inicial: R$ {valor_inicial:.2f}':.>50}\")\n",
        "print(f\"{f' Total final: R$ {valor_final:.2f}':.>50}\")\n",
        "print(f\"{f' Carteira: R$ {carteira:.2f}':.>50}\")\n",
        "print(f\"{f' Restante: R$ {carteira - valor_inicial:.2f}':.>50}\")\n",
        "print(f\"{f' {n_parcelas - 1} parcelas de: R$ {parcela_juros:.2f}':.>50}\")\n",
        "\n",
        " \n"
      ]
    },
    {
      "cell_type": "code",
      "source": [],
      "metadata": {
        "id": "R1TSUfT9iLWN"
      },
      "execution_count": null,
      "outputs": []
    }
  ],
  "metadata": {
    "colab": {
      "collapsed_sections": [
        "dnNgE5GFV5GF",
        "QdSMcWhVlg1f",
        "eMjrGwpZpXP6",
        "hV_a9S74iTED",
        "pQWVpaHKWbTs",
        "g7_XQWAliWFa"
      ],
      "provenance": [],
      "toc_visible": true,
      "include_colab_link": true
    },
    "kernelspec": {
      "display_name": "Python 3 (ipykernel)",
      "language": "python",
      "name": "python3"
    },
    "language_info": {
      "codemirror_mode": {
        "name": "ipython",
        "version": 3
      },
      "file_extension": ".py",
      "mimetype": "text/x-python",
      "name": "python",
      "nbconvert_exporter": "python",
      "pygments_lexer": "ipython3",
      "version": "3.10.8"
    }
  },
  "nbformat": 4,
  "nbformat_minor": 0
}